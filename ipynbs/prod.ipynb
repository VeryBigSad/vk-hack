{
 "cells": [
  {
   "cell_type": "code",
   "execution_count": 41,
   "id": "64334cc0-780f-489a-965e-a3291cc423fd",
   "metadata": {
    "tags": []
   },
   "outputs": [],
   "source": [
    "import pandas as pd\n",
    "import numpy as np\n",
    "import math\n",
    "from datetime import datetime\n",
    "from ptls.preprocessing import PandasDataPreprocessor\n"
   ]
  },
  {
   "cell_type": "code",
   "execution_count": 12,
   "id": "e3d8c382-9568-45c2-9610-57e5a3a3dc66",
   "metadata": {
    "tags": []
   },
   "outputs": [],
   "source": [
    "df = pd.DataFrame()\n",
    "\n",
    "for i in range(30):\n",
    "    try:\n",
    "        cur = pd.read_parquet(f'mnt/requests/part_{i}.parquet')\n",
    "    \n",
    "        cur = cur[cur.user_id.isin(need_users)]\n",
    "        df = pd.concat([df, cur])\n",
    "    except Exception as e:\n",
    "        pass"
   ]
  },
  {
   "cell_type": "code",
   "execution_count": 13,
   "id": "a93cc2c8-4cdb-483b-84db-6759be3e45da",
   "metadata": {
    "tags": []
   },
   "outputs": [
    {
     "data": {
      "text/plain": [
       "(9465920, 5)"
      ]
     },
     "execution_count": 13,
     "metadata": {},
     "output_type": "execute_result"
    }
   ],
   "source": [
    "df.shape"
   ]
  },
  {
   "cell_type": "code",
   "execution_count": 17,
   "id": "ec400314-ed9a-4cc8-9897-ab36315454d7",
   "metadata": {
    "tags": []
   },
   "outputs": [
    {
     "data": {
      "text/plain": [
       "((5533, 3), (5000000, 3))"
      ]
     },
     "execution_count": 17,
     "metadata": {},
     "output_type": "execute_result"
    }
   ],
   "source": [
    "geo = pd.read_csv('mnt/geo_dataframe.csv')\n",
    "users = pd.read_csv('mnt/train_users.csv')\n",
    "# df = pd.read_csv('data/better_feats.csv')\n",
    "# df.drop(['Unnamed: 0'], axis=1, inplace=True)\n",
    "\n",
    "geo.shape, users.shape"
   ]
  },
  {
   "cell_type": "code",
   "execution_count": 18,
   "id": "ed1d2df0-cdb7-478b-82dc-5a0ae298fc55",
   "metadata": {
    "tags": []
   },
   "outputs": [],
   "source": [
    "df = df.merge(geo, left_on='geo_id', right_on='geo_id')"
   ]
  },
  {
   "cell_type": "code",
   "execution_count": 19,
   "id": "d336e5ea-afe6-41ad-8a93-4d91f25e1372",
   "metadata": {
    "tags": []
   },
   "outputs": [],
   "source": [
    "df['hour'] = df['timestamp'].apply(lambda x: datetime.fromtimestamp(x).hour)\n",
    "median_online_time = df.groupby('region_id')['hour'].median()\n",
    "\n",
    "df['MSK+'] = df.apply(lambda x: 14 - math.ceil(median_online_time[x['region_id']]), axis=1)"
   ]
  },
  {
   "cell_type": "code",
   "execution_count": 20,
   "id": "49e85a0e-90a0-4a43-be0a-2e5eb06de407",
   "metadata": {
    "tags": []
   },
   "outputs": [],
   "source": [
    "age_groups = {\n",
    "    'age_14_18': [age for age in range(14, 18 + 1)],\n",
    "    'age_19_25': [age for age in range(19, 25 + 1)],\n",
    "    'age_26_30': [age for age in range(26, 30 + 1)],\n",
    "    'age_31_40': [age for age in range(31, 40 + 1)],\n",
    "    'age_41_55': [age for age in range(41, 55 + 1)],\n",
    "    'age_55+': [age for age in range(56, 75 + 1)]\n",
    "}"
   ]
  },
  {
   "cell_type": "code",
   "execution_count": 21,
   "id": "02e88f90-9ad8-4528-8eec-9c3ad3265824",
   "metadata": {
    "tags": []
   },
   "outputs": [],
   "source": [
    "def get_age_group(age):\n",
    "    for group in age_groups:\n",
    "        if age in age_groups[group]:\n",
    "            return group\n",
    "\n",
    "users['group'] = users.age.apply(get_age_group)"
   ]
  },
  {
   "cell_type": "code",
   "execution_count": 7,
   "id": "398674c4-2a5b-4a34-800f-413fd95b2b76",
   "metadata": {
    "tags": []
   },
   "outputs": [],
   "source": [
    "df = df.merge(users, left_on='user_id', right_on='user_id')"
   ]
  },
  {
   "cell_type": "code",
   "execution_count": 25,
   "id": "b2998a00-ab13-42e3-bdc4-cd6f6a6b7ac3",
   "metadata": {
    "tags": []
   },
   "outputs": [],
   "source": [
    "df = df[df['referer'] != '']"
   ]
  },
  {
   "cell_type": "code",
   "execution_count": null,
   "id": "b4c36d69-4664-4ac4-95ee-054a686ac3af",
   "metadata": {
    "tags": []
   },
   "outputs": [],
   "source": [
    "def get_domain(string):\n",
    "    domain = string.split('/')[2]\n",
    "    domain = domain.lstrip('www.')\n",
    "    return domain.lstrip('domain_')\n",
    "\n",
    "def get_path(string):\n",
    "    path = string.split('/')[3]\n",
    "    return path.lstrip('path_')\n",
    "\n",
    "df.loc[:, 'domain'] = df['referer'].apply(get_domain)\n",
    "df.loc[:, 'path'] = df['referer'].apply(get_path)"
   ]
  },
  {
   "cell_type": "code",
   "execution_count": 27,
   "id": "b3f423a3-bc65-4ce3-907b-f251ed2e5df3",
   "metadata": {
    "tags": []
   },
   "outputs": [
    {
     "data": {
      "text/html": [
       "<div>\n",
       "<style scoped>\n",
       "    .dataframe tbody tr th:only-of-type {\n",
       "        vertical-align: middle;\n",
       "    }\n",
       "\n",
       "    .dataframe tbody tr th {\n",
       "        vertical-align: top;\n",
       "    }\n",
       "\n",
       "    .dataframe thead th {\n",
       "        text-align: right;\n",
       "    }\n",
       "</style>\n",
       "<table border=\"1\" class=\"dataframe\">\n",
       "  <thead>\n",
       "    <tr style=\"text-align: right;\">\n",
       "      <th></th>\n",
       "      <th>timestamp</th>\n",
       "      <th>geo_id</th>\n",
       "      <th>referer</th>\n",
       "      <th>user_id</th>\n",
       "      <th>user_agent</th>\n",
       "      <th>region_id</th>\n",
       "      <th>country_id</th>\n",
       "      <th>hour</th>\n",
       "      <th>MSK+</th>\n",
       "      <th>domain</th>\n",
       "      <th>path</th>\n",
       "    </tr>\n",
       "  </thead>\n",
       "  <tbody>\n",
       "    <tr>\n",
       "      <th>0</th>\n",
       "      <td>1712066848</td>\n",
       "      <td>3037</td>\n",
       "      <td>https://domain_2301/path_124968</td>\n",
       "      <td>16779507</td>\n",
       "      <td>Mozilla/5.0 (Windows NT 10.0; Win64; x64) Appl...</td>\n",
       "      <td>53</td>\n",
       "      <td>40</td>\n",
       "      <td>14</td>\n",
       "      <td>2</td>\n",
       "      <td>2301</td>\n",
       "      <td>124968</td>\n",
       "    </tr>\n",
       "    <tr>\n",
       "      <th>1</th>\n",
       "      <td>1712104836</td>\n",
       "      <td>1888</td>\n",
       "      <td>https://domain_3191/path_9105</td>\n",
       "      <td>9663358</td>\n",
       "      <td>Mozilla/5.0 (Windows NT 10.0; Win64; x64) Appl...</td>\n",
       "      <td>214</td>\n",
       "      <td>40</td>\n",
       "      <td>0</td>\n",
       "      <td>5</td>\n",
       "      <td>3191</td>\n",
       "      <td>9105</td>\n",
       "    </tr>\n",
       "    <tr>\n",
       "      <th>2</th>\n",
       "      <td>1712107207</td>\n",
       "      <td>1330</td>\n",
       "      <td>https://domain_3191/path_9105</td>\n",
       "      <td>14200832</td>\n",
       "      <td>Mozilla/5.0 (Linux; Android 10; K) AppleWebKit...</td>\n",
       "      <td>-1</td>\n",
       "      <td>145</td>\n",
       "      <td>1</td>\n",
       "      <td>4</td>\n",
       "      <td>3191</td>\n",
       "      <td>9105</td>\n",
       "    </tr>\n",
       "    <tr>\n",
       "      <th>3</th>\n",
       "      <td>1712172538</td>\n",
       "      <td>3065</td>\n",
       "      <td>https://domain_551/path_175610</td>\n",
       "      <td>3124559</td>\n",
       "      <td>Mozilla/5.0 (Linux; Android 10; K) AppleWebKit...</td>\n",
       "      <td>184</td>\n",
       "      <td>40</td>\n",
       "      <td>19</td>\n",
       "      <td>2</td>\n",
       "      <td>551</td>\n",
       "      <td>175610</td>\n",
       "    </tr>\n",
       "    <tr>\n",
       "      <th>4</th>\n",
       "      <td>1712045212</td>\n",
       "      <td>3640</td>\n",
       "      <td>https://domain_1353/path_90872</td>\n",
       "      <td>10567547</td>\n",
       "      <td>Mozilla/5.0 (Windows NT 10.0; Win64; x64) Appl...</td>\n",
       "      <td>87</td>\n",
       "      <td>40</td>\n",
       "      <td>8</td>\n",
       "      <td>5</td>\n",
       "      <td>1353</td>\n",
       "      <td>90872</td>\n",
       "    </tr>\n",
       "  </tbody>\n",
       "</table>\n",
       "</div>"
      ],
      "text/plain": [
       "    timestamp  geo_id                          referer   user_id  \\\n",
       "0  1712066848    3037  https://domain_2301/path_124968  16779507   \n",
       "1  1712104836    1888    https://domain_3191/path_9105   9663358   \n",
       "2  1712107207    1330    https://domain_3191/path_9105  14200832   \n",
       "3  1712172538    3065   https://domain_551/path_175610   3124559   \n",
       "4  1712045212    3640   https://domain_1353/path_90872  10567547   \n",
       "\n",
       "                                          user_agent  region_id  country_id  \\\n",
       "0  Mozilla/5.0 (Windows NT 10.0; Win64; x64) Appl...         53          40   \n",
       "1  Mozilla/5.0 (Windows NT 10.0; Win64; x64) Appl...        214          40   \n",
       "2  Mozilla/5.0 (Linux; Android 10; K) AppleWebKit...         -1         145   \n",
       "3  Mozilla/5.0 (Linux; Android 10; K) AppleWebKit...        184          40   \n",
       "4  Mozilla/5.0 (Windows NT 10.0; Win64; x64) Appl...         87          40   \n",
       "\n",
       "   hour  MSK+ domain    path  \n",
       "0    14     2   2301  124968  \n",
       "1     0     5   3191    9105  \n",
       "2     1     4   3191    9105  \n",
       "3    19     2    551  175610  \n",
       "4     8     5   1353   90872  "
      ]
     },
     "execution_count": 27,
     "metadata": {},
     "output_type": "execute_result"
    }
   ],
   "source": [
    "df.head()"
   ]
  },
  {
   "cell_type": "code",
   "execution_count": 28,
   "id": "3d947227-62ea-4f16-a266-04b2426b6bdb",
   "metadata": {
    "tags": []
   },
   "outputs": [
    {
     "data": {
      "text/plain": [
       "632"
      ]
     },
     "execution_count": 28,
     "metadata": {},
     "output_type": "execute_result"
    }
   ],
   "source": [
    "domains_frequency = df['domain'].value_counts()\n",
    "useful_domains = set(domains_frequency[domains_frequency > 250].index)\n",
    "len(useful_domains)"
   ]
  },
  {
   "cell_type": "code",
   "execution_count": null,
   "id": "4a4094a8-5e0c-4ef9-ab4c-ec04f5cbee0c",
   "metadata": {
    "tags": []
   },
   "outputs": [],
   "source": [
    "df['domain'] = df['domain'].apply(lambda x: x if x in useful_domains else 0)"
   ]
  },
  {
   "cell_type": "code",
   "execution_count": 30,
   "id": "ed0ca76a-d9b3-44a5-a4d9-d4318aa3e70f",
   "metadata": {
    "tags": []
   },
   "outputs": [
    {
     "data": {
      "text/plain": [
       "(9423592, 11)"
      ]
     },
     "execution_count": 30,
     "metadata": {},
     "output_type": "execute_result"
    }
   ],
   "source": [
    "df.shape"
   ]
  },
  {
   "cell_type": "code",
   "execution_count": 42,
   "id": "77ecac06-7552-43d7-8683-784b7d6c6b8d",
   "metadata": {
    "tags": []
   },
   "outputs": [],
   "source": [
    "preprocessor = PandasDataPreprocessor(\n",
    "    col_id='user_id',\n",
    "    col_event_time='timestamp',\n",
    "    cols_category=['domain']\n",
    ")"
   ]
  },
  {
   "cell_type": "code",
   "execution_count": 11,
   "id": "33e688d9-561f-45c4-aaf3-eac9fba8310b",
   "metadata": {
    "tags": []
   },
   "outputs": [],
   "source": [
    "domain_male_percentage = df.groupby('domain')['gender'].mean()\n",
    "domain_age_groups = df.groupby('domain')['group'].value_counts(normalize=True).unstack()"
   ]
  },
  {
   "cell_type": "code",
   "execution_count": 12,
   "id": "3e981958-9a31-4b55-ad30-59a78e9f38dd",
   "metadata": {
    "tags": []
   },
   "outputs": [
    {
     "data": {
      "text/html": [
       "<div>\n",
       "<style scoped>\n",
       "    .dataframe tbody tr th:only-of-type {\n",
       "        vertical-align: middle;\n",
       "    }\n",
       "\n",
       "    .dataframe tbody tr th {\n",
       "        vertical-align: top;\n",
       "    }\n",
       "\n",
       "    .dataframe thead th {\n",
       "        text-align: right;\n",
       "    }\n",
       "</style>\n",
       "<table border=\"1\" class=\"dataframe\">\n",
       "  <thead>\n",
       "    <tr style=\"text-align: right;\">\n",
       "      <th></th>\n",
       "      <th>timestamp</th>\n",
       "      <th>geo_id</th>\n",
       "      <th>user_id</th>\n",
       "      <th>user_agent</th>\n",
       "      <th>domain</th>\n",
       "      <th>path</th>\n",
       "      <th>browser</th>\n",
       "      <th>os</th>\n",
       "      <th>device</th>\n",
       "      <th>mobile</th>\n",
       "      <th>...</th>\n",
       "      <th>gender_x</th>\n",
       "      <th>age</th>\n",
       "      <th>group</th>\n",
       "      <th>gender_y</th>\n",
       "      <th>age_14_18</th>\n",
       "      <th>age_19_25</th>\n",
       "      <th>age_26_30</th>\n",
       "      <th>age_31_40</th>\n",
       "      <th>age_41_55</th>\n",
       "      <th>age_55+</th>\n",
       "    </tr>\n",
       "  </thead>\n",
       "  <tbody>\n",
       "    <tr>\n",
       "      <th>0</th>\n",
       "      <td>1711945301</td>\n",
       "      <td>2540</td>\n",
       "      <td>1013613</td>\n",
       "      <td>Mozilla/5.0 (Linux; Android 8.1.0; Redmi 5 Plu...</td>\n",
       "      <td>0</td>\n",
       "      <td>175610</td>\n",
       "      <td>Opera Mobile</td>\n",
       "      <td>Android</td>\n",
       "      <td>XiaoMi Redmi 5 Plus</td>\n",
       "      <td>True</td>\n",
       "      <td>...</td>\n",
       "      <td>1</td>\n",
       "      <td>75</td>\n",
       "      <td>age_55+</td>\n",
       "      <td>0.502176</td>\n",
       "      <td>0.054901</td>\n",
       "      <td>0.081002</td>\n",
       "      <td>0.042783</td>\n",
       "      <td>0.194959</td>\n",
       "      <td>0.317166</td>\n",
       "      <td>0.309189</td>\n",
       "    </tr>\n",
       "    <tr>\n",
       "      <th>1</th>\n",
       "      <td>1711941903</td>\n",
       "      <td>3833</td>\n",
       "      <td>17082498</td>\n",
       "      <td>Mozilla/5.0 (Windows NT 10.0; Win64; x64) Appl...</td>\n",
       "      <td>2042</td>\n",
       "      <td>144480</td>\n",
       "      <td>Chrome</td>\n",
       "      <td>Windows</td>\n",
       "      <td>Other</td>\n",
       "      <td>False</td>\n",
       "      <td>...</td>\n",
       "      <td>0</td>\n",
       "      <td>72</td>\n",
       "      <td>age_55+</td>\n",
       "      <td>0.677838</td>\n",
       "      <td>0.005287</td>\n",
       "      <td>0.015663</td>\n",
       "      <td>0.015437</td>\n",
       "      <td>0.144239</td>\n",
       "      <td>0.406593</td>\n",
       "      <td>0.412782</td>\n",
       "    </tr>\n",
       "    <tr>\n",
       "      <th>2</th>\n",
       "      <td>1712088484</td>\n",
       "      <td>3866</td>\n",
       "      <td>12787875</td>\n",
       "      <td>Mozilla/5.0 (Windows NT 10.0; Win64; x64) Appl...</td>\n",
       "      <td>3191</td>\n",
       "      <td>9105</td>\n",
       "      <td>Chrome</td>\n",
       "      <td>Windows</td>\n",
       "      <td>Other</td>\n",
       "      <td>False</td>\n",
       "      <td>...</td>\n",
       "      <td>1</td>\n",
       "      <td>73</td>\n",
       "      <td>age_55+</td>\n",
       "      <td>0.700984</td>\n",
       "      <td>0.005614</td>\n",
       "      <td>0.015964</td>\n",
       "      <td>0.014239</td>\n",
       "      <td>0.157541</td>\n",
       "      <td>0.409511</td>\n",
       "      <td>0.397132</td>\n",
       "    </tr>\n",
       "    <tr>\n",
       "      <th>3</th>\n",
       "      <td>1711918808</td>\n",
       "      <td>1840</td>\n",
       "      <td>8871292</td>\n",
       "      <td>Mozilla/5.0 (Linux; Android 10; K) AppleWebKit...</td>\n",
       "      <td>551</td>\n",
       "      <td>175610</td>\n",
       "      <td>Chrome Mobile</td>\n",
       "      <td>Android</td>\n",
       "      <td>K</td>\n",
       "      <td>True</td>\n",
       "      <td>...</td>\n",
       "      <td>0</td>\n",
       "      <td>18</td>\n",
       "      <td>age_14_18</td>\n",
       "      <td>0.173001</td>\n",
       "      <td>0.206071</td>\n",
       "      <td>0.283564</td>\n",
       "      <td>0.073914</td>\n",
       "      <td>0.117349</td>\n",
       "      <td>0.164116</td>\n",
       "      <td>0.154985</td>\n",
       "    </tr>\n",
       "    <tr>\n",
       "      <th>4</th>\n",
       "      <td>1712117806</td>\n",
       "      <td>2293</td>\n",
       "      <td>11372673</td>\n",
       "      <td>Mozilla/5.0 (Windows NT 10.0; Win64; x64) Appl...</td>\n",
       "      <td>662</td>\n",
       "      <td>120157</td>\n",
       "      <td>Chrome</td>\n",
       "      <td>Windows</td>\n",
       "      <td>Other</td>\n",
       "      <td>False</td>\n",
       "      <td>...</td>\n",
       "      <td>1</td>\n",
       "      <td>41</td>\n",
       "      <td>age_41_55</td>\n",
       "      <td>0.622980</td>\n",
       "      <td>0.007854</td>\n",
       "      <td>0.019559</td>\n",
       "      <td>0.016954</td>\n",
       "      <td>0.142690</td>\n",
       "      <td>0.385516</td>\n",
       "      <td>0.427428</td>\n",
       "    </tr>\n",
       "  </tbody>\n",
       "</table>\n",
       "<p>5 rows × 24 columns</p>\n",
       "</div>"
      ],
      "text/plain": [
       "    timestamp  geo_id   user_id  \\\n",
       "0  1711945301    2540   1013613   \n",
       "1  1711941903    3833  17082498   \n",
       "2  1712088484    3866  12787875   \n",
       "3  1711918808    1840   8871292   \n",
       "4  1712117806    2293  11372673   \n",
       "\n",
       "                                          user_agent  domain    path  \\\n",
       "0  Mozilla/5.0 (Linux; Android 8.1.0; Redmi 5 Plu...       0  175610   \n",
       "1  Mozilla/5.0 (Windows NT 10.0; Win64; x64) Appl...    2042  144480   \n",
       "2  Mozilla/5.0 (Windows NT 10.0; Win64; x64) Appl...    3191    9105   \n",
       "3  Mozilla/5.0 (Linux; Android 10; K) AppleWebKit...     551  175610   \n",
       "4  Mozilla/5.0 (Windows NT 10.0; Win64; x64) Appl...     662  120157   \n",
       "\n",
       "         browser       os               device  mobile  ...  gender_x  age  \\\n",
       "0   Opera Mobile  Android  XiaoMi Redmi 5 Plus    True  ...         1   75   \n",
       "1         Chrome  Windows                Other   False  ...         0   72   \n",
       "2         Chrome  Windows                Other   False  ...         1   73   \n",
       "3  Chrome Mobile  Android                    K    True  ...         0   18   \n",
       "4         Chrome  Windows                Other   False  ...         1   41   \n",
       "\n",
       "       group  gender_y  age_14_18  age_19_25 age_26_30  age_31_40  age_41_55  \\\n",
       "0    age_55+  0.502176   0.054901   0.081002  0.042783   0.194959   0.317166   \n",
       "1    age_55+  0.677838   0.005287   0.015663  0.015437   0.144239   0.406593   \n",
       "2    age_55+  0.700984   0.005614   0.015964  0.014239   0.157541   0.409511   \n",
       "3  age_14_18  0.173001   0.206071   0.283564  0.073914   0.117349   0.164116   \n",
       "4  age_41_55  0.622980   0.007854   0.019559  0.016954   0.142690   0.385516   \n",
       "\n",
       "    age_55+  \n",
       "0  0.309189  \n",
       "1  0.412782  \n",
       "2  0.397132  \n",
       "3  0.154985  \n",
       "4  0.427428  \n",
       "\n",
       "[5 rows x 24 columns]"
      ]
     },
     "execution_count": 12,
     "metadata": {},
     "output_type": "execute_result"
    }
   ],
   "source": [
    "df = df.merge(domain_male_percentage, left_on='domain', right_on='domain')\n",
    "df = df.merge(domain_age_groups, left_on='domain', right_on='domain')\n",
    "df.head()"
   ]
  },
  {
   "cell_type": "code",
   "execution_count": 13,
   "id": "3f4b94a4-0b8c-4350-98b3-1e747e0e5ab8",
   "metadata": {
    "tags": []
   },
   "outputs": [
    {
     "data": {
      "text/plain": [
       "(4639029, 24)"
      ]
     },
     "execution_count": 13,
     "metadata": {},
     "output_type": "execute_result"
    }
   ],
   "source": [
    "df.shape"
   ]
  },
  {
   "cell_type": "code",
   "execution_count": 14,
   "id": "35221654-f204-4806-9f63-1d7fa6e78721",
   "metadata": {
    "tags": []
   },
   "outputs": [],
   "source": [
    "popular_devices = df.device.value_counts()\n",
    "\n",
    "df = df[df['device'].isin(popular_devices)]"
   ]
  },
  {
   "cell_type": "code",
   "execution_count": 37,
   "id": "8c24fdfa-70de-4951-a323-1b5b84ab537a",
   "metadata": {
    "tags": []
   },
   "outputs": [],
   "source": [
    "multiple_watches = df['user_id'].value_counts()[df['user_id'].value_counts() > 5].index"
   ]
  },
  {
   "cell_type": "code",
   "execution_count": 38,
   "id": "18457cd7-5137-49eb-88bc-79dccfcafb9e",
   "metadata": {
    "tags": []
   },
   "outputs": [],
   "source": [
    "df = df[df['user_id'].isin(multiple_watches)]"
   ]
  },
  {
   "cell_type": "code",
   "execution_count": 43,
   "id": "7f10b3ae-4358-40da-8d19-55244f549f7d",
   "metadata": {
    "tags": []
   },
   "outputs": [
    {
     "name": "stdout",
     "output_type": "stream",
     "text": [
      "CPU times: user 34.7 s, sys: 567 ms, total: 35.3 s\n",
      "Wall time: 35.2 s\n"
     ]
    }
   ],
   "source": [
    "%%time\n",
    "\n",
    "df_embeded = preprocessor.fit_transform(df.drop(['geo_id', 'path', 'user_agent'], axis=1))\n",
    "df_embeded = pd.DataFrame(df_embeded)"
   ]
  },
  {
   "cell_type": "code",
   "execution_count": null,
   "id": "c64bdc20-be83-4ef3-a5b9-cac30e95b19d",
   "metadata": {
    "tags": []
   },
   "outputs": [],
   "source": [
    "df_embeded['browser'] = df_embeded['browser'].apply(lambda x: x[0])\n",
    "df_embeded['os'] = df_embeded['os'].apply(lambda x: x[0])\n",
    "df_embeded['mobile'] = df_embeded['mobile'].apply(lambda x: bool(x[0]))\n",
    "df_embeded['device'] = df_embeded['device'].apply(lambda x: x[0])\n",
    "\n",
    "df_embeded['hour'] = df_embeded['hour'].apply(lambda x: int(x[0]))\n",
    "df_embeded['MSK+'] = df_embeded['MSK+'].apply(lambda x: int(x[0]))\n",
    "\n",
    "df_embeded['gender_x'] = df_embeded['gender_x'].apply(lambda x: int(x[0]))\n",
    "df_embeded['age'] = df_embeded['age'].apply(lambda x: int(x[0]))\n",
    "df_embeded['group'] = df_embeded['group'].apply(lambda x: x[0])\n",
    "\n",
    "df_embeded['region_id'] = df_embeded['region_id'].apply(lambda x: int(x[0]))\n",
    "df_embeded['country_id'] = df_embeded['country_id'].apply(lambda x: int(x[0]))\n",
    "\n",
    "df_embeded['gender_y'] = df_embeded['gender_y'].apply(lambda x: np.mean([el.item() for el in x]))\n",
    "df_embeded['age_14_18'] = df_embeded['age_14_18'].apply(lambda x: np.mean([el.item() for el in x]))\n",
    "df_embeded['age_19_25'] = df_embeded['age_19_25'].apply(lambda x: np.mean([el.item() for el in x]))\n",
    "df_embeded['age_26_30'] = df_embeded['age_26_30'].apply(lambda x: np.mean([el.item() for el in x]))\n",
    "df_embeded['age_31_40'] = df_embeded['age_31_40'].apply(lambda x: np.mean([el.item() for el in x]))\n",
    "df_embeded['age_41_55'] = df_embeded['age_41_55'].apply(lambda x: np.mean([el.item() for el in x]))\n",
    "df_embeded['age_55+'] = df_embeded['age_55+'].apply(lambda x: np.mean([el.item() for el in x]))"
   ]
  },
  {
   "cell_type": "code",
   "execution_count": 20,
   "id": "c336dd50-16ea-4563-adc2-797a5818ff87",
   "metadata": {
    "tags": []
   },
   "outputs": [
    {
     "data": {
      "text/html": [
       "<div>\n",
       "<style scoped>\n",
       "    .dataframe tbody tr th:only-of-type {\n",
       "        vertical-align: middle;\n",
       "    }\n",
       "\n",
       "    .dataframe tbody tr th {\n",
       "        vertical-align: top;\n",
       "    }\n",
       "\n",
       "    .dataframe thead th {\n",
       "        text-align: right;\n",
       "    }\n",
       "</style>\n",
       "<table border=\"1\" class=\"dataframe\">\n",
       "  <thead>\n",
       "    <tr style=\"text-align: right;\">\n",
       "      <th></th>\n",
       "      <th>user_id</th>\n",
       "      <th>browser</th>\n",
       "      <th>os</th>\n",
       "      <th>device</th>\n",
       "      <th>mobile</th>\n",
       "      <th>region_id</th>\n",
       "      <th>country_id</th>\n",
       "      <th>hour</th>\n",
       "      <th>MSK+</th>\n",
       "      <th>gender_x</th>\n",
       "      <th>...</th>\n",
       "      <th>group</th>\n",
       "      <th>gender_y</th>\n",
       "      <th>age_14_18</th>\n",
       "      <th>age_19_25</th>\n",
       "      <th>age_26_30</th>\n",
       "      <th>age_31_40</th>\n",
       "      <th>age_41_55</th>\n",
       "      <th>age_55+</th>\n",
       "      <th>event_time</th>\n",
       "      <th>domain</th>\n",
       "    </tr>\n",
       "  </thead>\n",
       "  <tbody>\n",
       "    <tr>\n",
       "      <th>0</th>\n",
       "      <td>115</td>\n",
       "      <td>Chrome Mobile</td>\n",
       "      <td>Android</td>\n",
       "      <td>K</td>\n",
       "      <td>True</td>\n",
       "      <td>89</td>\n",
       "      <td>40</td>\n",
       "      <td>11</td>\n",
       "      <td>5</td>\n",
       "      <td>0</td>\n",
       "      <td>...</td>\n",
       "      <td>age_55+</td>\n",
       "      <td>0.275207</td>\n",
       "      <td>0.019739</td>\n",
       "      <td>0.032906</td>\n",
       "      <td>0.018528</td>\n",
       "      <td>0.115901</td>\n",
       "      <td>0.319082</td>\n",
       "      <td>0.493843</td>\n",
       "      <td>[tensor(0)]</td>\n",
       "      <td>[tensor(11)]</td>\n",
       "    </tr>\n",
       "    <tr>\n",
       "      <th>1</th>\n",
       "      <td>202</td>\n",
       "      <td>Yandex Browser</td>\n",
       "      <td>Windows</td>\n",
       "      <td>Other</td>\n",
       "      <td>False</td>\n",
       "      <td>103</td>\n",
       "      <td>40</td>\n",
       "      <td>4</td>\n",
       "      <td>3</td>\n",
       "      <td>0</td>\n",
       "      <td>...</td>\n",
       "      <td>age_41_55</td>\n",
       "      <td>0.600375</td>\n",
       "      <td>0.013225</td>\n",
       "      <td>0.027734</td>\n",
       "      <td>0.019246</td>\n",
       "      <td>0.126135</td>\n",
       "      <td>0.300039</td>\n",
       "      <td>0.513620</td>\n",
       "      <td>[tensor(0)]</td>\n",
       "      <td>[tensor(50)]</td>\n",
       "    </tr>\n",
       "    <tr>\n",
       "      <th>2</th>\n",
       "      <td>288</td>\n",
       "      <td>Yandex Browser</td>\n",
       "      <td>Windows</td>\n",
       "      <td>Other</td>\n",
       "      <td>False</td>\n",
       "      <td>39</td>\n",
       "      <td>40</td>\n",
       "      <td>6</td>\n",
       "      <td>6</td>\n",
       "      <td>0</td>\n",
       "      <td>...</td>\n",
       "      <td>age_55+</td>\n",
       "      <td>0.323367</td>\n",
       "      <td>0.003289</td>\n",
       "      <td>0.009461</td>\n",
       "      <td>0.006683</td>\n",
       "      <td>0.040837</td>\n",
       "      <td>0.223081</td>\n",
       "      <td>0.716650</td>\n",
       "      <td>[tensor(0)]</td>\n",
       "      <td>[tensor(2)]</td>\n",
       "    </tr>\n",
       "    <tr>\n",
       "      <th>3</th>\n",
       "      <td>520</td>\n",
       "      <td>Chrome Mobile</td>\n",
       "      <td>Android</td>\n",
       "      <td>K</td>\n",
       "      <td>True</td>\n",
       "      <td>189</td>\n",
       "      <td>40</td>\n",
       "      <td>17</td>\n",
       "      <td>2</td>\n",
       "      <td>0</td>\n",
       "      <td>...</td>\n",
       "      <td>age_41_55</td>\n",
       "      <td>0.221325</td>\n",
       "      <td>0.020125</td>\n",
       "      <td>0.028653</td>\n",
       "      <td>0.027073</td>\n",
       "      <td>0.226514</td>\n",
       "      <td>0.362919</td>\n",
       "      <td>0.334717</td>\n",
       "      <td>[tensor(0)]</td>\n",
       "      <td>[tensor(25)]</td>\n",
       "    </tr>\n",
       "    <tr>\n",
       "      <th>4</th>\n",
       "      <td>976</td>\n",
       "      <td>Chrome Mobile</td>\n",
       "      <td>Android</td>\n",
       "      <td>K</td>\n",
       "      <td>True</td>\n",
       "      <td>53</td>\n",
       "      <td>40</td>\n",
       "      <td>21</td>\n",
       "      <td>2</td>\n",
       "      <td>1</td>\n",
       "      <td>...</td>\n",
       "      <td>age_55+</td>\n",
       "      <td>0.677838</td>\n",
       "      <td>0.005287</td>\n",
       "      <td>0.015663</td>\n",
       "      <td>0.015437</td>\n",
       "      <td>0.144239</td>\n",
       "      <td>0.406593</td>\n",
       "      <td>0.412782</td>\n",
       "      <td>[tensor(0)]</td>\n",
       "      <td>[tensor(4)]</td>\n",
       "    </tr>\n",
       "  </tbody>\n",
       "</table>\n",
       "<p>5 rows × 21 columns</p>\n",
       "</div>"
      ],
      "text/plain": [
       "   user_id         browser       os device  mobile  region_id  country_id  \\\n",
       "0      115   Chrome Mobile  Android      K    True         89          40   \n",
       "1      202  Yandex Browser  Windows  Other   False        103          40   \n",
       "2      288  Yandex Browser  Windows  Other   False         39          40   \n",
       "3      520   Chrome Mobile  Android      K    True        189          40   \n",
       "4      976   Chrome Mobile  Android      K    True         53          40   \n",
       "\n",
       "   hour  MSK+  gender_x  ...      group  gender_y  age_14_18  age_19_25  \\\n",
       "0    11     5         0  ...    age_55+  0.275207   0.019739   0.032906   \n",
       "1     4     3         0  ...  age_41_55  0.600375   0.013225   0.027734   \n",
       "2     6     6         0  ...    age_55+  0.323367   0.003289   0.009461   \n",
       "3    17     2         0  ...  age_41_55  0.221325   0.020125   0.028653   \n",
       "4    21     2         1  ...    age_55+  0.677838   0.005287   0.015663   \n",
       "\n",
       "   age_26_30  age_31_40  age_41_55   age_55+   event_time        domain  \n",
       "0   0.018528   0.115901   0.319082  0.493843  [tensor(0)]  [tensor(11)]  \n",
       "1   0.019246   0.126135   0.300039  0.513620  [tensor(0)]  [tensor(50)]  \n",
       "2   0.006683   0.040837   0.223081  0.716650  [tensor(0)]   [tensor(2)]  \n",
       "3   0.027073   0.226514   0.362919  0.334717  [tensor(0)]  [tensor(25)]  \n",
       "4   0.015437   0.144239   0.406593  0.412782  [tensor(0)]   [tensor(4)]  \n",
       "\n",
       "[5 rows x 21 columns]"
      ]
     },
     "execution_count": 20,
     "metadata": {},
     "output_type": "execute_result"
    }
   ],
   "source": [
    "df_embeded.head()"
   ]
  },
  {
   "cell_type": "code",
   "execution_count": null,
   "id": "4deb3ca2-3b65-4605-b188-de0e071f98c8",
   "metadata": {
    "tags": []
   },
   "outputs": [],
   "source": [
    "df_embeded.shape"
   ]
  },
  {
   "cell_type": "code",
   "execution_count": null,
   "id": "5776c223-cac2-4c14-a2b7-8c307b413b98",
   "metadata": {
    "tags": []
   },
   "outputs": [],
   "source": [
    "df_embeded.to_csv('data/full_data.csv')\n",
    "# df_embeded.to_csv('data/vectors_featured_data.csv')"
   ]
  },
  {
   "cell_type": "code",
   "execution_count": 3,
   "id": "555930e7-c387-4b47-b14b-fd55c6208404",
   "metadata": {
    "tags": []
   },
   "outputs": [
    {
     "data": {
      "text/plain": [
       "(995487, 22)"
      ]
     },
     "execution_count": 3,
     "metadata": {},
     "output_type": "execute_result"
    }
   ],
   "source": [
    "df_clean = pd.read_csv('data/full_data_2millions.csv')\n",
    "df_clean.shape"
   ]
  },
  {
   "cell_type": "code",
   "execution_count": 8,
   "id": "e39fcbf8-f9b3-465c-8988-6acd17131e0c",
   "metadata": {
    "tags": []
   },
   "outputs": [
    {
     "data": {
      "text/plain": [
       "device\n",
       "Other                593027\n",
       "K                    154544\n",
       "iPhone                 9249\n",
       "Mac                    7434\n",
       "Samsung SM-A515F       5015\n",
       "Samsung SM-A125F       3849\n",
       "Samsung SM-A505FN      3575\n",
       "Samsung SM-A325F       3508\n",
       "M2006C3MNG             3443\n",
       "Samsung SM-A105F       3170\n",
       "Name: count, dtype: int64"
      ]
     },
     "execution_count": 8,
     "metadata": {},
     "output_type": "execute_result"
    }
   ],
   "source": [
    "df_clean.device.value_counts().head(10)"
   ]
  },
  {
   "cell_type": "code",
   "execution_count": 15,
   "id": "9c4c3b42-762f-4807-8125-1b2615bfa90a",
   "metadata": {
    "tags": []
   },
   "outputs": [],
   "source": [
    "popular_devices = set(df_clean.device.value_counts().head(10).index)\n",
    "popular_browsers = set(df_clean['browser'].value_counts().head(10).index)\n",
    "\n",
    "df_clean['device'] = df_clean['device'].apply(lambda x: x if x in popular_devices else 'Other')\n",
    "df_clean['browser'] = df_clean['browser'].apply(lambda x: x if x in popular_browsers else 'Other')"
   ]
  },
  {
   "cell_type": "code",
   "execution_count": 16,
   "id": "2e36a86e-0cdf-4532-83b7-f142c7c1a9f5",
   "metadata": {
    "tags": []
   },
   "outputs": [
    {
     "data": {
      "text/plain": [
       "browser\n",
       "Chrome                   378730\n",
       "Yandex Browser           291268\n",
       "Chrome Mobile            161010\n",
       "Edge                      49559\n",
       "Opera                     32914\n",
       "YandexSearch              26541\n",
       "Firefox                   20644\n",
       "Other                     13358\n",
       "Chrome Mobile WebView      9655\n",
       "Mobile Safari              7117\n",
       "Samsung Internet           4691\n",
       "Name: count, dtype: int64"
      ]
     },
     "execution_count": 16,
     "metadata": {},
     "output_type": "execute_result"
    }
   ],
   "source": [
    "df_clean['browser'].value_counts()"
   ]
  },
  {
   "cell_type": "code",
   "execution_count": 18,
   "id": "0a42b63f-fde1-443f-bf16-55a27d5938d7",
   "metadata": {
    "tags": []
   },
   "outputs": [],
   "source": [
    "df_clean.to_csv('data/full_data_cleaned.csv')"
   ]
  },
  {
   "cell_type": "code",
   "execution_count": null,
   "id": "f0f3d94a-2df4-497c-8d39-aeaf19994703",
   "metadata": {},
   "outputs": [],
   "source": [
    "test_users = pd.read_csv('data/test_users.csv')\n",
    "test_users.shape"
   ]
  }
 ],
 "metadata": {
  "kernelspec": {
   "display_name": "Python 3 (ipykernel)",
   "language": "python",
   "name": "python3"
  },
  "language_info": {
   "codemirror_mode": {
    "name": "ipython",
    "version": 3
   },
   "file_extension": ".py",
   "mimetype": "text/x-python",
   "name": "python",
   "nbconvert_exporter": "python",
   "pygments_lexer": "ipython3",
   "version": "3.9.7"
  }
 },
 "nbformat": 4,
 "nbformat_minor": 5
}
